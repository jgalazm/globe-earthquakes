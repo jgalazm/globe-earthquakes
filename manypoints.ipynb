{
 "cells": [
  {
   "cell_type": "code",
   "execution_count": 1,
   "metadata": {},
   "outputs": [],
   "source": [
    "import numpy as np\n",
    "import matplotlib.pyplot as plt\n",
    "import requests\n",
    "import json"
   ]
  },
  {
   "cell_type": "code",
   "execution_count": 26,
   "metadata": {},
   "outputs": [],
   "source": [
    "def queryInMagRange(minMw, maxMw):\n",
    "    baseQueryString = \"https://earthquake.usgs.gov/fdsnws/event/1/query?format=geojson\"\n",
    "    startTime = \"&starttime=1990-01-01\"\n",
    "    endTime = \"&endtime=2116-12-31\"\n",
    "    minMagnitudeString = \"&minmagnitude={}\".format(minMw)\n",
    "    maxMagnitudeString = \"&maxmagnitude={}\".format(maxMw)\n",
    "    productType = \"&producttype=moment-tensor\"\n",
    "    qString = baseQueryString + startTime + endTime + minMagnitudeString + maxMagnitudeString\n",
    "    r = requests.get(qString)\n",
    "    geojson = json.loads(r.text)\n",
    "    return geojson"
   ]
  },
  {
   "cell_type": "code",
   "execution_count": 13,
   "metadata": {},
   "outputs": [],
   "source": [
    "def countMagRange(minMw, maxMw):\n",
    "    baseQueryString = \"https://earthquake.usgs.gov/fdsnws/event/1/count?\"\n",
    "    timeWindowString = \"starttime=1900-01-01&endtime=2020-01-02\"\n",
    "    magnitudeWindowString = \"&minmagnitude={}&maxmagnitude={}\".format(minMw, maxMw)\n",
    "    qString = baseQueryString + timeWindowString + magnitudeWindowString\n",
    "    r = requests.get(qString)\n",
    "    return r.text"
   ]
  },
  {
   "cell_type": "code",
   "execution_count": 17,
   "metadata": {},
   "outputs": [
    {
     "data": {
      "text/plain": [
       "'11137'"
      ]
     },
     "execution_count": 17,
     "metadata": {},
     "output_type": "execute_result"
    }
   ],
   "source": [
    "countMagRange(6.0,10.0)"
   ]
  },
  {
   "cell_type": "code",
   "execution_count": 19,
   "metadata": {},
   "outputs": [
    {
     "data": {
      "text/plain": [
       "'15278'"
      ]
     },
     "execution_count": 19,
     "metadata": {},
     "output_type": "execute_result"
    }
   ],
   "source": [
    "countMagRange(5.6,6.0)"
   ]
  },
  {
   "cell_type": "code",
   "execution_count": 21,
   "metadata": {},
   "outputs": [
    {
     "data": {
      "text/plain": [
       "'15739'"
      ]
     },
     "execution_count": 21,
     "metadata": {},
     "output_type": "execute_result"
    }
   ],
   "source": [
    "countMagRange(5.4,5.6)"
   ]
  },
  {
   "cell_type": "code",
   "execution_count": 23,
   "metadata": {},
   "outputs": [
    {
     "data": {
      "text/plain": [
       "'14280'"
      ]
     },
     "execution_count": 23,
     "metadata": {},
     "output_type": "execute_result"
    }
   ],
   "source": [
    "countMagRange(5.3,5.4)"
   ]
  },
  {
   "cell_type": "code",
   "execution_count": 66,
   "metadata": {},
   "outputs": [
    {
     "data": {
      "text/plain": [
       "'10374'"
      ]
     },
     "execution_count": 66,
     "metadata": {},
     "output_type": "execute_result"
    }
   ],
   "source": [
    "countMagRange(5.2,5.25)"
   ]
  },
  {
   "cell_type": "code",
   "execution_count": 91,
   "metadata": {},
   "outputs": [],
   "source": [
    "rango1 = queryInMagRange(5.2,5.25)\n",
    "rango2 = queryInMagRange(5.3,5.4)"
   ]
  },
  {
   "cell_type": "code",
   "execution_count": 95,
   "metadata": {
    "scrolled": true
   },
   "outputs": [],
   "source": [
    "def addFeatures(ejemplo):\n",
    "    global output\n",
    "    print(len(ejemplo['features']))\n",
    "    for feature in ejemplo['features']:\n",
    "        output['features'].append( {\n",
    "            'coordinates': feature['geometry']['coordinates'],\n",
    "            'mag':feature['properties']['mag'],\n",
    "            'time': feature['properties']['time']})"
   ]
  },
  {
   "cell_type": "code",
   "execution_count": 96,
   "metadata": {},
   "outputs": [
    {
     "name": "stdout",
     "output_type": "stream",
     "text": [
      "6531\n",
      "8827\n"
     ]
    }
   ],
   "source": [
    "output = {'features':[]}\n",
    "addFeatures(rango1)\n",
    "\n",
    "addFeatures(rango2)"
   ]
  },
  {
   "cell_type": "code",
   "execution_count": 97,
   "metadata": {},
   "outputs": [
    {
     "data": {
      "text/plain": [
       "15358"
      ]
     },
     "execution_count": 97,
     "metadata": {},
     "output_type": "execute_result"
    }
   ],
   "source": [
    "len(output['features'])"
   ]
  },
  {
   "cell_type": "code",
   "execution_count": 90,
   "metadata": {},
   "outputs": [],
   "source": [
    "f = open('output.json','w')\n",
    "\n",
    "json.dump(output,f)\n",
    "\n",
    "f.close()"
   ]
  },
  {
   "cell_type": "code",
   "execution_count": null,
   "metadata": {},
   "outputs": [],
   "source": []
  }
 ],
 "metadata": {
  "kernelspec": {
   "display_name": "Python 3",
   "language": "python",
   "name": "python3"
  },
  "language_info": {
   "codemirror_mode": {
    "name": "ipython",
    "version": 3
   },
   "file_extension": ".py",
   "mimetype": "text/x-python",
   "name": "python",
   "nbconvert_exporter": "python",
   "pygments_lexer": "ipython3",
   "version": "3.6.5"
  }
 },
 "nbformat": 4,
 "nbformat_minor": 2
}
