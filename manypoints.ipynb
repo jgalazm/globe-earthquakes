{
 "cells": [
  {
   "cell_type": "code",
   "execution_count": 1,
   "metadata": {},
   "outputs": [],
   "source": [
    "import numpy as np\n",
    "import matplotlib.pyplot as plt\n",
    "import requests\n",
    "import json"
   ]
  },
  {
   "cell_type": "code",
   "execution_count": 2,
   "metadata": {},
   "outputs": [],
   "source": [
    "def queryInMagRange(minMw, maxMw):\n",
    "    baseQueryString = \"https://earthquake.usgs.gov/fdsnws/event/1/query?format=geojson\"\n",
    "    startTime = \"&starttime=2001-01-01\"\n",
    "    endTime = \"&endtime=2020-01-02\"\n",
    "    minMagnitudeString = \"&minmagnitude={}\".format(minMw)\n",
    "    maxMagnitudeString = \"&maxmagnitude={}\".format(maxMw)\n",
    "    productType = \"&producttype=moment-tensor\"\n",
    "    qString = baseQueryString + startTime + endTime + minMagnitudeString + maxMagnitudeString\n",
    "    r = requests.get(qString)\n",
    "    geojson = json.loads(r.text)\n",
    "    return geojson"
   ]
  },
  {
   "cell_type": "code",
   "execution_count": 3,
   "metadata": {},
   "outputs": [],
   "source": [
    "def countMagRange(minMw, maxMw):\n",
    "    baseQueryString = \"https://earthquake.usgs.gov/fdsnws/event/1/count?\"\n",
    "    timeWindowString = \"&starttime=2001-01-01&endtime=2020-01-02\"\n",
    "    magnitudeWindowString = \"&minmagnitude={}&maxmagnitude={}\".format(minMw, maxMw)\n",
    "    qString = baseQueryString + timeWindowString + magnitudeWindowString\n",
    "    r = requests.get(qString)\n",
    "    return r.text"
   ]
  },
  {
   "cell_type": "code",
   "execution_count": 4,
   "metadata": {
    "scrolled": true
   },
   "outputs": [],
   "source": [
    "def addFeatures(ejemplo):\n",
    "    global output\n",
    "    print(len(ejemplo['features']))\n",
    "    for feature in ejemplo['features']:\n",
    "        output['features'].append( {\n",
    "            'coordinates': feature['geometry']['coordinates'],\n",
    "            'mag':feature['properties']['mag'],\n",
    "            'time': feature['properties']['time']})"
   ]
  },
  {
   "cell_type": "code",
   "execution_count": 5,
   "metadata": {},
   "outputs": [
    {
     "data": {
      "text/plain": [
       "'11130'"
      ]
     },
     "execution_count": 5,
     "metadata": {},
     "output_type": "execute_result"
    }
   ],
   "source": [
    "countMagRange(5.4,10.0)"
   ]
  },
  {
   "cell_type": "code",
   "execution_count": 6,
   "metadata": {},
   "outputs": [
    {
     "data": {
      "text/plain": [
       "'9850'"
      ]
     },
     "execution_count": 6,
     "metadata": {},
     "output_type": "execute_result"
    }
   ],
   "source": [
    "countMagRange(5.2,5.4)"
   ]
  },
  {
   "cell_type": "code",
   "execution_count": 7,
   "metadata": {},
   "outputs": [
    {
     "data": {
      "text/plain": [
       "'206618'"
      ]
     },
     "execution_count": 7,
     "metadata": {},
     "output_type": "execute_result"
    }
   ],
   "source": [
    "countMagRange(4,5)"
   ]
  },
  {
   "cell_type": "code",
   "execution_count": 8,
   "metadata": {},
   "outputs": [],
   "source": [
    "rango1 = queryInMagRange(6.4, 10)\n",
    "rango2 = queryInMagRange(5.2, 5.4)"
   ]
  },
  {
   "cell_type": "code",
   "execution_count": 9,
   "metadata": {
    "scrolled": true
   },
   "outputs": [
    {
     "name": "stdout",
     "output_type": "stream",
     "text": [
      "1026\n"
     ]
    },
    {
     "data": {
      "text/plain": [
       "1026"
      ]
     },
     "execution_count": 9,
     "metadata": {},
     "output_type": "execute_result"
    }
   ],
   "source": [
    "output = {'features':[]}\n",
    "addFeatures(rango1)\n",
    "# addFeatures(rango2)\n",
    "\n",
    "\n",
    "len(output['features'])"
   ]
  },
  {
   "cell_type": "code",
   "execution_count": 10,
   "metadata": {},
   "outputs": [],
   "source": [
    "f = open('output.json','w')\n",
    "\n",
    "json.dump(output,f)\n",
    "\n",
    "f.close()"
   ]
  }
 ],
 "metadata": {
  "kernelspec": {
   "display_name": "Python 3",
   "language": "python",
   "name": "python3"
  },
  "language_info": {
   "codemirror_mode": {
    "name": "ipython",
    "version": 3
   },
   "file_extension": ".py",
   "mimetype": "text/x-python",
   "name": "python",
   "nbconvert_exporter": "python",
   "pygments_lexer": "ipython3",
   "version": "3.6.5"
  }
 },
 "nbformat": 4,
 "nbformat_minor": 2
}
