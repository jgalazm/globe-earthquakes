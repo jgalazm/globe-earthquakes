{
 "cells": [
  {
   "cell_type": "code",
   "execution_count": 1,
   "metadata": {},
   "outputs": [],
   "source": [
    "import numpy as np\n",
    "import matplotlib.pyplot as plt"
   ]
  },
  {
   "cell_type": "markdown",
   "metadata": {},
   "source": [
    "# Get usgs data"
   ]
  },
  {
   "cell_type": "code",
   "execution_count": 9,
   "metadata": {},
   "outputs": [],
   "source": [
    "baseQueryString = \"https://earthquake.usgs.gov/fdsnws/event/1/query?format=geojson\"\n",
    "startTime = \"&starttime=1990-01-01\"\n",
    "endTime = \"&endtime=2116-12-31\"\n",
    "minMagnitudeString = \"&minmagnitude=6.0\"\n",
    "productType = \"&producttype=moment-tensor\"\n",
    "qString = baseQueryString + startTime + endTime + minMagnitudeString\n"
   ]
  },
  {
   "cell_type": "code",
   "execution_count": 10,
   "metadata": {},
   "outputs": [],
   "source": [
    "import requests\n",
    "\n",
    "import json\n",
    "\n",
    "r = requests.get(qString)\n",
    "\n",
    "geojson = json.loads(r.text)"
   ]
  },
  {
   "cell_type": "markdown",
   "metadata": {},
   "source": [
    "epoch: 1970-01-01T00:00:00.000Z"
   ]
  },
  {
   "cell_type": "markdown",
   "metadata": {},
   "source": [
    "# czml prototype"
   ]
  },
  {
   "cell_type": "code",
   "execution_count": 11,
   "metadata": {},
   "outputs": [],
   "source": [
    "from czml import czml\n",
    "doc = czml.CZML()\n",
    "packet1 = czml.CZMLPacket(id='document',version='1.0')\n",
    "doc.packets.append(packet1)"
   ]
  },
  {
   "cell_type": "code",
   "execution_count": 12,
   "metadata": {},
   "outputs": [],
   "source": [
    "for i,feature in enumerate(geojson['features']):\n",
    "    packet = czml.CZMLPacket(id='point_{}'.format(i))\n",
    "    point = czml.Point(show=True)\n",
    "    point.color = {'rgba': [255, 0, 0, 255]}\n",
    "    point.pixelSize = 10\n",
    "    packet.point = point\n",
    "    \n",
    "    coordinates = feature['geometry']['coordinates'][:-1]\n",
    "    coordinates.append(100)\n",
    "    position = czml.Position()\n",
    "    position.cartographicDegrees = coordinates\n",
    "    packet.position = position\n",
    "    doc.packets.append(packet)"
   ]
  },
  {
   "cell_type": "markdown",
   "metadata": {},
   "source": [
    "packet2 = czml.CZMLPacket(id='point')\n",
    "\n",
    "point = czml.Point(show=True)\n",
    "point.color = {'rgba': [255, 0, 0, 255]}\n",
    "point.pixelSize = 10\n",
    "packet2.point = point\n",
    "\n",
    "position = czml.Position()\n",
    "position.cartographicDegrees = [142.373, 38.297, 100]\n",
    "packet2.position = position\n",
    "doc.packets.append(packet2)"
   ]
  },
  {
   "cell_type": "code",
   "execution_count": 13,
   "metadata": {},
   "outputs": [],
   "source": [
    "# Write the CZML document to a file\n",
    "filename = \"example.czml\"\n",
    "doc.write(filename)"
   ]
  }
 ],
 "metadata": {
  "kernelspec": {
   "display_name": "Python 3",
   "language": "python",
   "name": "python3"
  },
  "language_info": {
   "codemirror_mode": {
    "name": "ipython",
    "version": 3
   },
   "file_extension": ".py",
   "mimetype": "text/x-python",
   "name": "python",
   "nbconvert_exporter": "python",
   "pygments_lexer": "ipython3",
   "version": "3.6.5"
  }
 },
 "nbformat": 4,
 "nbformat_minor": 2
}
